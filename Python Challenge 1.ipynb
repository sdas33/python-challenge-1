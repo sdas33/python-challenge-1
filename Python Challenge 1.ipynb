{
 "cells": [
  {
   "cell_type": "code",
   "execution_count": 2,
   "id": "f6f9e178-430a-4ddf-8f38-07ffadad9a51",
   "metadata": {},
   "outputs": [
    {
     "name": "stdout",
     "output_type": "stream",
     "text": [
      "Welcome to the variety food truck.\n",
      "From which menu would you like to order?\n",
      "1: Snacks\n",
      "2: Meals\n",
      "3: Drinks\n",
      "4: Dessert\n"
     ]
    },
    {
     "name": "stdin",
     "output_type": "stream",
     "text": [
      "Type menu number:  1\n"
     ]
    },
    {
     "name": "stdout",
     "output_type": "stream",
     "text": [
      "You selected Snacks\n",
      "What Snacks item would you like to order?\n",
      "Item # | Item name                | Price\n",
      "-------|--------------------------|-------\n",
      "1      | Cookie                   | $0.99\n",
      "2      | Banana                   | $0.69\n",
      "3      | Apple                    | $0.49\n",
      "4      | Granola bar              | $1.99\n"
     ]
    },
    {
     "name": "stdin",
     "output_type": "stream",
     "text": [
      "Type the item number you wish to order:  1\n",
      "Enter the quantity for Cookie (default is 1):  1\n"
     ]
    },
    {
     "name": "stdout",
     "output_type": "stream",
     "text": [
      "Added 1 x Cookie to your order.\n"
     ]
    },
    {
     "name": "stdin",
     "output_type": "stream",
     "text": [
      "Would you like to keep ordering? (Y)es or (N)o  Y\n"
     ]
    },
    {
     "name": "stdout",
     "output_type": "stream",
     "text": [
      "From which menu would you like to order?\n",
      "1: Snacks\n",
      "2: Meals\n",
      "3: Drinks\n",
      "4: Dessert\n"
     ]
    },
    {
     "name": "stdin",
     "output_type": "stream",
     "text": [
      "Type menu number:  3\n"
     ]
    },
    {
     "name": "stdout",
     "output_type": "stream",
     "text": [
      "You selected Drinks\n",
      "What Drinks item would you like to order?\n",
      "Item # | Item name                | Price\n",
      "-------|--------------------------|-------\n",
      "1      | Soda - Small             | $1.99\n",
      "2      | Soda - Medium            | $2.49\n",
      "3      | Soda - Large             | $2.99\n",
      "4      | Tea - Green              | $2.49\n",
      "5      | Tea - Thai iced          | $3.99\n",
      "6      | Tea - Irish breakfast    | $2.49\n",
      "7      | Coffee - Espresso        | $2.99\n",
      "8      | Coffee - Flat white      | $2.99\n",
      "9      | Coffee - Iced            | $3.49\n"
     ]
    },
    {
     "name": "stdin",
     "output_type": "stream",
     "text": [
      "Type the item number you wish to order:  6\n",
      "Enter the quantity for Tea - Irish breakfast (default is 1):  2\n"
     ]
    },
    {
     "name": "stdout",
     "output_type": "stream",
     "text": [
      "Added 2 x Tea - Irish breakfast to your order.\n"
     ]
    },
    {
     "name": "stdin",
     "output_type": "stream",
     "text": [
      "Would you like to keep ordering? (Y)es or (N)o  N\n"
     ]
    },
    {
     "name": "stdout",
     "output_type": "stream",
     "text": [
      "Thank you for your order!\n",
      "\n",
      "This is what we are preparing for you.\n",
      "\n",
      "Item name                 | Price  | Quantity\n",
      "--------------------------|--------|----------\n",
      "Cookie                   | $0.99   | 1\n",
      "Tea - Irish breakfast    | $2.49   | 2\n",
      "--------------------------\n",
      "Total: $5.97\n"
     ]
    }
   ],
   "source": [
    "# Full Starter Code and Completed Assignment\n",
    "\n",
    "# Menu dictionary\n",
    "menu = {\n",
    "    \"Snacks\": {\n",
    "        \"Cookie\": .99,\n",
    "        \"Banana\": .69,\n",
    "        \"Apple\": .49,\n",
    "        \"Granola bar\": 1.99\n",
    "    },\n",
    "    \"Meals\": {\n",
    "        \"Burrito\": 4.49,\n",
    "        \"Teriyaki Chicken\": 9.99,\n",
    "        \"Sushi\": 7.49,\n",
    "        \"Pad Thai\": 6.99,\n",
    "        \"Pizza\": {\n",
    "            \"Cheese\": 8.99,\n",
    "            \"Pepperoni\": 10.99,\n",
    "            \"Vegetarian\": 9.99\n",
    "        },\n",
    "        \"Burger\": {\n",
    "            \"Chicken\": 7.49,\n",
    "            \"Beef\": 8.49\n",
    "        }\n",
    "    },\n",
    "    \"Drinks\": {\n",
    "        \"Soda\": {\n",
    "            \"Small\": 1.99,\n",
    "            \"Medium\": 2.49,\n",
    "            \"Large\": 2.99\n",
    "        },\n",
    "        \"Tea\": {\n",
    "            \"Green\": 2.49,\n",
    "            \"Thai iced\": 3.99,\n",
    "            \"Irish breakfast\": 2.49\n",
    "        },\n",
    "        \"Coffee\": {\n",
    "            \"Espresso\": 2.99,\n",
    "            \"Flat white\": 2.99,\n",
    "            \"Iced\": 3.49\n",
    "        }\n",
    "    },\n",
    "    \"Dessert\": {\n",
    "        \"Chocolate lava cake\": 10.99,\n",
    "        \"Cheesecake\": {\n",
    "            \"New York\": 4.99,\n",
    "            \"Strawberry\": 6.49\n",
    "        },\n",
    "        \"Australian Pavlova\": 9.99,\n",
    "        \"Rice pudding\": 4.99,\n",
    "        \"Fried banana\": 4.49\n",
    "    }\n",
    "}\n",
    "\n",
    "# Initialize an empty order list\n",
    "order_list = []\n",
    "\n",
    "# Launch the store and present a greeting to the customer\n",
    "print(\"Welcome to the variety food truck.\")\n",
    "\n",
    "# Customers may want to order multiple items, so let's create a continuous loop\n",
    "place_order = True\n",
    "while place_order:\n",
    "    # Ask the customer from which menu category they want to order\n",
    "    print(\"From which menu would you like to order?\")\n",
    "\n",
    "    # Create a variable for the menu item number\n",
    "    i = 1\n",
    "    # Create a dictionary to store the menu for later retrieval\n",
    "    menu_items = {}\n",
    "\n",
    "    # Print the options to choose from menu headings (all the first-level dictionary items in the menu).\n",
    "    for key in menu.keys():\n",
    "        print(f\"{i}: {key}\")\n",
    "        # Store the menu category associated with its menu item number\n",
    "        menu_items[i] = key\n",
    "        # Add 1 to the menu item number\n",
    "        i += 1\n",
    "\n",
    "    # Get the customer's input\n",
    "    menu_category = input(\"Type menu number: \")\n",
    "\n",
    "    # Check if the customer's input is a number\n",
    "    if menu_category.isdigit():\n",
    "        # Check if the customer's input is a valid option\n",
    "        if int(menu_category) in menu_items.keys():\n",
    "            # Save the menu category name to a variable\n",
    "            menu_category_name = menu_items[int(menu_category)]\n",
    "            # Print out the menu category name they selected\n",
    "            print(f\"You selected {menu_category_name}\")\n",
    "\n",
    "            # Print out the menu options from the menu_category_name\n",
    "            print(f\"What {menu_category_name} item would you like to order?\")\n",
    "            i = 1\n",
    "            menu_items = {}\n",
    "            print(\"Item # | Item name                | Price\")\n",
    "            print(\"-------|--------------------------|-------\")\n",
    "            for key, value in menu[menu_category_name].items():\n",
    "                # Check if the menu item is a dictionary to handle differently\n",
    "                if type(value) is dict:\n",
    "                    for key2, value2 in value.items():\n",
    "                        num_item_spaces = 24 - len(key + key2) - 3\n",
    "                        item_spaces = \" \" * num_item_spaces\n",
    "                        print(f\"{i}      | {key} - {key2}{item_spaces} | ${value2}\")\n",
    "                        menu_items[i] = {\n",
    "                            \"Item name\": key + \" - \" + key2,\n",
    "                            \"Price\": value2\n",
    "                        }\n",
    "                        i += 1\n",
    "                else:\n",
    "                    num_item_spaces = 24 - len(key)\n",
    "                    item_spaces = \" \" * num_item_spaces\n",
    "                    print(f\"{i}      | {key}{item_spaces} | ${value}\")\n",
    "                    menu_items[i] = {\n",
    "                        \"Item name\": key,\n",
    "                        \"Price\": value\n",
    "                    }\n",
    "                    i += 1\n",
    "\n",
    "            # Ask customer to input menu item number\n",
    "            menu_selection = input(\"Type the item number you wish to order: \")\n",
    "\n",
    "            if menu_selection.isdigit() and int(menu_selection) in menu_items:\n",
    "                # Get selected item details\n",
    "                selected_item = menu_items[int(menu_selection)]\n",
    "                item_name = selected_item[\"Item name\"]\n",
    "                item_price = selected_item[\"Price\"]\n",
    "\n",
    "                # Ask for quantity\n",
    "                quantity_input = input(f\"Enter the quantity for {item_name} (default is 1): \")\n",
    "                try:\n",
    "                    quantity = int(quantity_input)\n",
    "                    if quantity < 1:\n",
    "                        raise ValueError\n",
    "                except ValueError:\n",
    "                    print(\"Invalid quantity. Setting default quantity to 1.\")\n",
    "                    quantity = 1\n",
    "\n",
    "                # Add to order list\n",
    "                order_list.append({\"Item name\": item_name, \"Price\": item_price, \"Quantity\": quantity})\n",
    "                print(f\"Added {quantity} x {item_name} to your order.\")\n",
    "            else:\n",
    "                print(\"Invalid menu item selected. Please try again.\")\n",
    "\n",
    "        else:\n",
    "            print(f\"{menu_category} was not a menu option.\")\n",
    "    else:\n",
    "        print(\"You didn't select a number.\")\n",
    "\n",
    "    while True:\n",
    "        # Ask the customer if they would like to order anything else\n",
    "        keep_ordering = input(\"Would you like to keep ordering? (Y)es or (N)o \").strip().lower()\n",
    "\n",
    "        if keep_ordering == \"y\":\n",
    "            break\n",
    "        elif keep_ordering == \"n\":\n",
    "            place_order = False\n",
    "            print(\"Thank you for your order!\")\n",
    "            break\n",
    "        else:\n",
    "            print(\"Invalid input. Please type 'Y' or 'N'.\")\n",
    "\n",
    "# Print out the customer's order\n",
    "print(\"\\nThis is what we are preparing for you.\\n\")\n",
    "print(\"Item name                 | Price  | Quantity\")\n",
    "print(\"--------------------------|--------|----------\")\n",
    "total_price = 0\n",
    "for order in order_list:\n",
    "    item_name = order[\"Item name\"]\n",
    "    item_price = order[\"Price\"]\n",
    "    quantity = order[\"Quantity\"]\n",
    "    \n",
    "    # Calculate spacing for formatting\n",
    "    spaces_name = \" \" * (25 - len(item_name))\n",
    "    spaces_price = \" \" * (8 - len(f\"${item_price:.2f}\"))\n",
    "\n",
    "    print(f\"{item_name}{spaces_name}| ${item_price:.2f}{spaces_price}| {quantity}\")\n",
    "    total_price += item_price * quantity\n",
    "\n",
    "print(\"--------------------------\")\n",
    "print(f\"Total: ${total_price:.2f}\")\n"
   ]
  },
  {
   "cell_type": "code",
   "execution_count": null,
   "id": "86ab9728-4e76-4cac-8c8a-c89e4eefddb3",
   "metadata": {},
   "outputs": [],
   "source": []
  }
 ],
 "metadata": {
  "kernelspec": {
   "display_name": "Python 3 (ipykernel)",
   "language": "python",
   "name": "python3"
  },
  "language_info": {
   "codemirror_mode": {
    "name": "ipython",
    "version": 3
   },
   "file_extension": ".py",
   "mimetype": "text/x-python",
   "name": "python",
   "nbconvert_exporter": "python",
   "pygments_lexer": "ipython3",
   "version": "3.11.7"
  }
 },
 "nbformat": 4,
 "nbformat_minor": 5
}
